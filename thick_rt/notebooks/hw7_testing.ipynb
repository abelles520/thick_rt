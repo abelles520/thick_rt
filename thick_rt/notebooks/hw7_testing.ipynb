{
 "cells": [
  {
   "cell_type": "code",
   "execution_count": 133,
   "metadata": {},
   "outputs": [],
   "source": [
    "import numpy as np\n",
    "import pandas as pd\n",
    "import sys\n",
    "import matplotlib.pyplot as plt\n",
    "sys.path.append(\"..\")\n",
    "from partition import *\n",
    "from constants import *"
   ]
  },
  {
   "cell_type": "code",
   "execution_count": 134,
   "metadata": {},
   "outputs": [],
   "source": [
    "# complete\n",
    "\n",
    "def phi(ionized_ion, T):\n",
    "    \"\"\"\n",
    "    Calculates the phi function from Gray's eqs 1.20-1.21\n",
    "    \n",
    "    T - is the temperature in K\n",
    "    ionized_ion - is the name of the lower ionization state\n",
    "    \"\"\"\n",
    "    \n",
    "    theta = 5040/T\n",
    "    if ionized_ion=='H-':\n",
    "        u1 = partition('H', T)\n",
    "        u0 = partition(ionized_ion, T)\n",
    "        xi = 0.754195 # eV\n",
    "    else:\n",
    "        u1 = partition(ionized_ion+'+', T)\n",
    "        u0 = partition(ionized_ion, T) \n",
    "        ionization_file = pd.read_csv('../aux_files/nist_ioniz.txt', delim_whitespace=True, header=None)\n",
    "        ionization_file.columns = ['Z', 'name', 'mass', 'ioniz_e']\n",
    "        row = ionization_file[ionization_file['name']==ionized_ion]\n",
    "        xi = row['ioniz_e'].values[0]\n",
    "    \n",
    "    return 1.2020e9*u1/u0*theta**(-5/2)*10**(-theta*xi)\n",
    "    "
   ]
  },
  {
   "cell_type": "code",
   "execution_count": 135,
   "metadata": {},
   "outputs": [
    {
     "data": {
      "text/plain": [
       "5.17058483070319"
      ]
     },
     "execution_count": 135,
     "metadata": {},
     "output_type": "execute_result"
    }
   ],
   "source": [
    "phi('H', 8000)"
   ]
  },
  {
   "cell_type": "code",
   "execution_count": 136,
   "metadata": {},
   "outputs": [],
   "source": [
    "# completed\n",
    "def kappa_Hminus_bf(Pe, T, wave):\n",
    "    \"\"\"\n",
    "    Following equation 8.11-12 in Gray\n",
    "    wave in angstroms\n",
    "    T in kelvin\n",
    "    Pe in cgs? dynes/cm^2\n",
    "    \"\"\"\n",
    "    a0,a1,a2,a3,a4,a5,a6 = [1.99654, -1.18267e-5, 2.64243e-6, -4.40524e-10, 3.23992e-14, -1.39568e-18, 2.78701e-23]\n",
    "    alpha_bf = a0 + a1*wave + a2*wave**2 + a3*wave**3 + a4*wave**4 + a5*wave**5 + a6*wave**6\n",
    "    theta = 5040/T\n",
    "    return 4.158e-10*alpha_bf*1e18*Pe*theta**(5/2)*10**(0.754*theta)"
   ]
  },
  {
   "cell_type": "code",
   "execution_count": 137,
   "metadata": {},
   "outputs": [],
   "source": [
    "# completed\n",
    "def kappa_Hminus_ff(Pe, T, wave):\n",
    "    \"\"\"\n",
    "    Following equation 8.13 in Gray\n",
    "    \"\"\"\n",
    "    f0 = -2.2763-1.6850*np.log10(wave)+0.76661*(np.log10(wave))**2-0.053346*(np.log10(wave))**3\n",
    "    f1 = 15.2827-9.2846*np.log10(wave)+1.99381*(np.log10(wave))**2-0.142631*(np.log10(wave))**3\n",
    "    f2 = -197.789+190.266*np.log10(wave)-67.9775*(np.log10(wave))**2+10.6913*(np.log10(wave))**3-0.625151*(np.log10(wave))**4\n",
    "    theta = 5040/T\n",
    "    return 1e-26*Pe*10**(f0+f1*np.log10(theta)+f2*(np.log10(theta))**2) "
   ]
  },
  {
   "cell_type": "code",
   "execution_count": 138,
   "metadata": {},
   "outputs": [],
   "source": [
    "def g_bf(n, T, wave):\n",
    "    \"\"\"\n",
    "    equation 8.6 in gray\n",
    "    \"\"\"\n",
    "    theta = 5040/T\n",
    "    xi = 1.2398e4/wave\n",
    "    return 1-(0.3456)/(wave*1.0968e-3)**(1/3)*(wave*1.0968e-3/(n**2)-1/2)"
   ]
  },
  {
   "cell_type": "code",
   "execution_count": 139,
   "metadata": {},
   "outputs": [],
   "source": [
    "def kappa_H_bf(Pe, T, wave):\n",
    "    \"\"\"\n",
    "    Using equations 8.4, 8.5, 8.8\n",
    "    \"\"\"\n",
    "    # find n0\n",
    "    n0 = int(round(np.sqrt(13.6*EV_TO_ERG/(PLANCK_ERG*SPEEDOFLIGHT/(wave*10**-8)))))+1\n",
    "\n",
    "    theta = 5040/T\n",
    "    n_array = np.array([n0, n0+1, n0+2])\n",
    "    alpha0 = 1.0449e-26\n",
    "    I = 13.6    # eV\n",
    "    xi_array = I*(1-1/(n_array)**2)\n",
    "    g_array = np.array([g_bf(i, T, wave) for i in n_array])\n",
    "    summation = sum(g_array/(n_array**3)*10**(-theta*xi_array))\n",
    "    xi3 = I*(1-1/(n0+3)**2) \n",
    "    \n",
    "    return alpha0*wave**3*(summation+(np.log10(np.e)/(2*theta*I))*(10**(-xi3*theta)-10**(-I*theta)))\n"
   ]
  },
  {
   "cell_type": "code",
   "execution_count": 140,
   "metadata": {},
   "outputs": [],
   "source": [
    "# completed\n",
    "def kappa_H_ff(Pe, T, wave):\n",
    "    \"\"\"\n",
    "    Using equations 8.6, 8.10\n",
    "    \"\"\"\n",
    "    R = 1.0968e-3  # inverse Angstroms\n",
    "    theta = 5040/T\n",
    "    g_ff = 1+(0.3456)/(wave*R)**(1/3)*(np.log10(np.e)/(theta*1.2398e4/wave)+0.5)\n",
    "    alpha0 = 1.0449e-26\n",
    "    I = PLANCK_ERG*SPEEDOFLIGHT*1.0968e5 # R\n",
    "    return alpha0*wave**3*g_ff*np.log10(np.e)/(2*theta*I)*10**(-theta*I)"
   ]
  },
  {
   "cell_type": "code",
   "execution_count": 141,
   "metadata": {},
   "outputs": [],
   "source": [
    "def kappa_e():\n",
    "    return None"
   ]
  },
  {
   "cell_type": "code",
   "execution_count": 203,
   "metadata": {},
   "outputs": [],
   "source": [
    "def kappa(Pe, T, wave):\n",
    "    \"\"\"\n",
    "    equation 8.18\n",
    "    \"\"\"\n",
    "    theta=5040/T\n",
    "    return ((kappa_H_bf(Pe, T, wave)+kappa_H_ff(Pe, T, wave)+kappa_Hminus_bf(Pe, T, wave))*(1-10**(-1.2398e4/wave*theta))\n",
    "            +kappa_Hminus_ff(Pe, T, wave))*1/(1+phi('H', T)/Pe)\n"
   ]
  },
  {
   "cell_type": "markdown",
   "metadata": {},
   "source": [
    "worked with Macy and Brianna  \n",
    "ask Jason what he wants for the write up  \n",
    "ask Jason whats wrong  \n",
    "plot individual contributions "
   ]
  },
  {
   "cell_type": "code",
   "execution_count": 204,
   "metadata": {},
   "outputs": [
    {
     "data": {
      "text/plain": [
       "1175717176110.6099"
      ]
     },
     "execution_count": 204,
     "metadata": {},
     "output_type": "execute_result"
    }
   ],
   "source": [
    "kappa(100, 8000, 10000)"
   ]
  },
  {
   "cell_type": "code",
   "execution_count": 205,
   "metadata": {},
   "outputs": [],
   "source": [
    "wave_array = np.linspace(3000, 20000, 50)"
   ]
  },
  {
   "cell_type": "code",
   "execution_count": 206,
   "metadata": {},
   "outputs": [],
   "source": [
    "opacity_a = [kappa(10**1.08, 5143, i) for i in wave_array]"
   ]
  },
  {
   "cell_type": "code",
   "execution_count": 207,
   "metadata": {},
   "outputs": [
    {
     "data": {
      "image/png": "[encoded data removed]",
      "text/plain": [
       "<Figure size 432x288 with 1 Axes>"
      ]
     },
     "metadata": {
      "needs_background": "light"
     },
     "output_type": "display_data"
    }
   ],
   "source": [
    "plt.plot(wave_array, opacity_a, 'b-', label='Figure 8.5a')\n",
    "plt.xlabel(r'$\\lambda$ ($\\AA$)')\n",
    "plt.ylabel('Opacity')\n",
    "plt.show()"
   ]
  },
  {
   "cell_type": "code",
   "execution_count": 208,
   "metadata": {},
   "outputs": [],
   "source": [
    "# b\n",
    "opacity_b =[kappa(10**1.77, 6429, i) for i in wave_array]"
   ]
  },
  {
   "cell_type": "code",
   "execution_count": 209,
   "metadata": {},
   "outputs": [
    {
     "data": {
      "image/png": "[encoded data removed]",
      "text/plain": [
       "<Figure size 432x288 with 1 Axes>"
      ]
     },
     "metadata": {
      "needs_background": "light"
     },
     "output_type": "display_data"
    }
   ],
   "source": [
    "plt.plot(wave_array, opacity_b, 'b-', label='Figure 8.5b')\n",
    "plt.xlabel(r'$\\lambda$ ($\\AA$)')\n",
    "plt.ylabel('Opacity')\n",
    "plt.show()"
   ]
  },
  {
   "cell_type": "code",
   "execution_count": 210,
   "metadata": {},
   "outputs": [],
   "source": [
    "# c\n",
    "opacity_c =[kappa(10**2.5, 7715, i) for i in wave_array]"
   ]
  },
  {
   "cell_type": "code",
   "execution_count": 211,
   "metadata": {},
   "outputs": [
    {
     "data": {
      "image/png": "[encoded data removed]",
      "text/plain": [
       "<Figure size 432x288 with 1 Axes>"
      ]
     },
     "metadata": {
      "needs_background": "light"
     },
     "output_type": "display_data"
    }
   ],
   "source": [
    "plt.plot(wave_array, opacity_c, 'b-', label='Figure 8.5c')\n",
    "plt.xlabel(r'$\\lambda$ ($\\AA$)')\n",
    "plt.ylabel('Opacity')\n",
    "plt.show()"
   ]
  },
  {
   "cell_type": "code",
   "execution_count": null,
   "metadata": {},
   "outputs": [],
   "source": []
  },
  {
   "cell_type": "code",
   "execution_count": null,
   "metadata": {},
   "outputs": [],
   "source": []
  },
  {
   "cell_type": "code",
   "execution_count": null,
   "metadata": {},
   "outputs": [],
   "source": []
  }
 ],
 "metadata": {
  "kernelspec": {
   "display_name": "Python 3",
   "language": "python",
   "name": "python3"
  },
  "language_info": {
   "codemirror_mode": {
    "name": "ipython",
    "version": 3
   },
   "file_extension": ".py",
   "mimetype": "text/x-python",
   "name": "python",
   "nbconvert_exporter": "python",
   "pygments_lexer": "ipython3",
   "version": "3.7.6"
  }
 },
 "nbformat": 4,
 "nbformat_minor": 4
}
