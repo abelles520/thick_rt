{
 "cells": [
  {
   "cell_type": "code",
   "execution_count": 6,
   "metadata": {},
   "outputs": [],
   "source": [
    "import numpy as np\n",
    "import pandas as pd\n",
    "import sys\n",
    "sys.path.append(\"..\")\n",
    "from partition import *"
   ]
  },
  {
   "cell_type": "code",
   "execution_count": 7,
   "metadata": {},
   "outputs": [],
   "source": [
    "def phi(ionized_ion, T):\n",
    "    \"\"\"\n",
    "    Calculates the phi function from Gray's eqs 1.20-1.21\n",
    "    \n",
    "    T - is the temperature in K\n",
    "    ionized_ion - is the name of the lower ionization state\n",
    "    \"\"\"\n",
    "    \n",
    "    theta = 5040/T\n",
    "    \n",
    "    u1 = partition(ionized_ion+'+', T)\n",
    "    # add catch if final character is a minus\n",
    "    u0 = partition(ionized_ion, T)\n",
    "    \n",
    "    # get ionization energy from table \n",
    "    # use NIST table\n",
    "    # add ionization energy for H- \n",
    "    xi = None\n",
    "    \n",
    "    return 1.2020e9*u1/u0*theta**(-5/2)*10**(-theta*xi)\n",
    "    "
   ]
  },
  {
   "cell_type": "code",
   "execution_count": 23,
   "metadata": {},
   "outputs": [],
   "source": [
    "def kappa_Hminus_bf(Pe, T, wave):\n",
    "    \"\"\"\n",
    "    Following equation 8.11-12 in Gray\n",
    "    wave in angstroms\n",
    "    T in kelvin\n",
    "    Pe in cgs?\n",
    "    \"\"\"\n",
    "    a0,a1,a2,a3,a4,a5,a6 = [1.99654, -1.18267e-5, 2.64243e-6, -4.40524e-10, 3.23992e-14, -1.39568e-18, 2.78701e-23]\n",
    "    alpha_bf = a0 + a1*wave + a2*wave**2 + a3*wave**3 + a4*wave**4 + a5*wave**5 + a6*wave**6\n",
    "    theta = 5040/T\n",
    "    return 4.158e-10*alpha_bf*Pe*theta**(5/2)*10**(0.754*theta)"
   ]
  },
  {
   "cell_type": "code",
   "execution_count": 24,
   "metadata": {},
   "outputs": [],
   "source": [
    "def kappa_Hminus_ff(Pe, T, wave):\n",
    "    \"\"\"\n",
    "    Following equation 8.13 in Gray\n",
    "    \"\"\"\n",
    "    f0 = -2.2763-1.6850*np.log10(wave)+0.76661*(np.log10(wave))**2-0.053346*(np.log10(wave))**3\n",
    "    f1 = 15.2827-9.2846*np.log10(wave)+1.99381*(np.log10(wave))**2-0.142631*(np.log10(wave))**3\n",
    "    f2 = -197.789+190.266*np.log10(wave)-67.9775*(np.log10(wave))**2+10.6913*(np.log10(wave))**3-0.625151*(np.log10(wave))**4\n",
    "    theta = 5040/T\n",
    "    return 1e-26*Pe*10**(f0+f1*np.log10(theta)+f2*(np.log10(theta))**2) "
   ]
  },
  {
   "cell_type": "code",
   "execution_count": 18,
   "metadata": {},
   "outputs": [],
   "source": [
    "def kappa_H_bf(Pe, T, wave):\n",
    "    \"\"\"\n",
    "    Using equations 8.4, 8.5, 8.8\n",
    "    \"\"\"\n",
    "    return None"
   ]
  },
  {
   "cell_type": "code",
   "execution_count": 26,
   "metadata": {},
   "outputs": [],
   "source": [
    "def kappa_H_ff(Pe, T, wave):\n",
    "    \"\"\"\n",
    "    Using equations 8.6, 8.9, 8.10\n",
    "    \"\"\"\n",
    "    R = 1.0968e-3  # inverse Angstroms\n",
    "    theta = 5040/T\n",
    "    g_ff = 1+(0.3456)/(wave*R)**(1/3)*(np.log10(np.e)/(theta*1.2398e4/wave)+0.5)\n",
    "    alpha0 = 1.0449e-26\n",
    "    I = PLANCK_ERG*SPEEDOFLIGHT*1.0968e5 # R\n",
    "    return alpha0*wave**3*g_ff*np.log10(np.e)/(2*theta*I)*10**(-theta*I)"
   ]
  },
  {
   "cell_type": "code",
   "execution_count": 20,
   "metadata": {},
   "outputs": [],
   "source": [
    "def kappa_e():\n",
    "    return None"
   ]
  },
  {
   "cell_type": "code",
   "execution_count": null,
   "metadata": {},
   "outputs": [],
   "source": []
  }
 ],
 "metadata": {
  "kernelspec": {
   "display_name": "Python 3",
   "language": "python",
   "name": "python3"
  },
  "language_info": {
   "codemirror_mode": {
    "name": "ipython",
    "version": 3
   },
   "file_extension": ".py",
   "mimetype": "text/x-python",
   "name": "python",
   "nbconvert_exporter": "python",
   "pygments_lexer": "ipython3",
   "version": "3.7.3"
  }
 },
 "nbformat": 4,
 "nbformat_minor": 4
}
