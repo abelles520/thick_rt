{
 "cells": [
  {
   "cell_type": "code",
   "execution_count": 1,
   "metadata": {},
   "outputs": [],
   "source": [
    "import numpy as np\n",
    "import pandas as pd"
   ]
  },
  {
   "cell_type": "code",
   "execution_count": 2,
   "metadata": {},
   "outputs": [],
   "source": [
    "df = pd.read_csv('../aux_files/partit.txt', delim_whitespace=True, header=None,  na_values='-')"
   ]
  },
  {
   "cell_type": "code",
   "execution_count": 3,
   "metadata": {},
   "outputs": [],
   "source": [
    "df.columns = ['name', 0.2, 0.4, 0.6 ,0.8, 1.0, 1.2, 1.4, 1.6, 1.8, 2.0, 'log g0']"
   ]
  },
  {
   "cell_type": "code",
   "execution_count": 4,
   "metadata": {},
   "outputs": [
    {
     "data": {
      "text/plain": [
       "10"
      ]
     },
     "execution_count": 4,
     "metadata": {},
     "output_type": "execute_result"
    }
   ],
   "source": [
    "np.size(df[df['name']=='H'].values[0][1:-1])"
   ]
  },
  {
   "cell_type": "code",
   "execution_count": 5,
   "metadata": {},
   "outputs": [
    {
     "data": {
      "text/plain": [
       "array([0.368, 0.303, 0.301, 0.301, 0.301, 0.301, 0.301, 0.301, 0.301,\n",
       "       0.301])"
      ]
     },
     "execution_count": 5,
     "metadata": {},
     "output_type": "execute_result"
    }
   ],
   "source": [
    "df[df['name']=='H'].values[0][1:-1].astype(float)"
   ]
  },
  {
   "cell_type": "code",
   "execution_count": 6,
   "metadata": {},
   "outputs": [],
   "source": [
    "def partition(ion_name, T):\n",
    "    \"\"\"\n",
    "    Using the partit.txt in aux_files, interpolate the given temperature\n",
    "    to get the correct value of the partition function\n",
    "    \n",
    "    if ion_name is H+ or H-, the known value is returned without interpolation\n",
    "\n",
    "    \"\"\"\n",
    "    if ion_name in ['H+', 'H-']:\n",
    "        return 1.0\n",
    "    df = pd.read_csv('../aux_files/partit.txt', delim_whitespace=True, header=None,  na_values='-')\n",
    "    df.columns = ['name', 0.2, 0.4, 0.6 ,0.8, 1.0, 1.2, 1.4, 1.6, 1.8, 2.0, 'log g0']\n",
    "    \n",
    "    row = df[df['name']==ion_name]\n",
    "    theta_array = np.array([0.2, 0.4, 0.6 ,0.8, 1.0, 1.2, 1.4, 1.6, 1.8, 2.0])\n",
    "    log_u = row.values[0][1:-1].astype(float)\n",
    "    theta = 5040/T\n",
    "    \n",
    "    if theta>2.0 or theta<0.2:\n",
    "        print('out of bounds')\n",
    "        return np.nan\n",
    "    \n",
    "    return 10**np.interp(theta, theta_array, log_u)"
   ]
  },
  {
   "cell_type": "code",
   "execution_count": null,
   "metadata": {},
   "outputs": [],
   "source": []
  },
  {
   "cell_type": "code",
   "execution_count": 7,
   "metadata": {},
   "outputs": [
    {
     "data": {
      "text/plain": [
       "1.9998618696327441"
      ]
     },
     "execution_count": 7,
     "metadata": {},
     "output_type": "execute_result"
    }
   ],
   "source": [
    "partition('H', 8000)"
   ]
  },
  {
   "cell_type": "code",
   "execution_count": null,
   "metadata": {},
   "outputs": [],
   "source": [
    "5040/0.2"
   ]
  },
  {
   "cell_type": "code",
   "execution_count": null,
   "metadata": {},
   "outputs": [],
   "source": [
    "5040/10000"
   ]
  },
  {
   "cell_type": "code",
   "execution_count": null,
   "metadata": {},
   "outputs": [],
   "source": []
  }
 ],
 "metadata": {
  "kernelspec": {
   "display_name": "Python 3",
   "language": "python",
   "name": "python3"
  },
  "language_info": {
   "codemirror_mode": {
    "name": "ipython",
    "version": 3
   },
   "file_extension": ".py",
   "mimetype": "text/x-python",
   "name": "python",
   "nbconvert_exporter": "python",
   "pygments_lexer": "ipython3",
   "version": "3.7.6"
  }
 },
 "nbformat": 4,
 "nbformat_minor": 4
}
