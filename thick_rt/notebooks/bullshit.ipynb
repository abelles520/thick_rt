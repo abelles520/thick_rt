{
 "cells": [
  {
   "cell_type": "code",
   "execution_count": 39,
   "metadata": {},
   "outputs": [],
   "source": [
    "import numpy as np\n",
    "import pandas as pd\n",
    "import sys\n",
    "import matplotlib.pyplot as plt\n",
    "#sys.path.append(\"..\")\n",
    "#from partition import *\n",
    "#from constants import *"
   ]
  },
  {
   "cell_type": "code",
   "execution_count": 40,
   "metadata": {},
   "outputs": [],
   "source": [
    "def alpha_bf(wave):\n",
    "    \"\"\"Value of alpha_bf for H- ion given by Gray Eq. 8.11 (based on wishart, 1979)\n",
    "        Returns value in units of 1e-18 cm^2/H- ion\"\"\"\n",
    "    a_coef = np.asarray([1.99654,     -1.18267e-5,  2.64243e-6, -4.40524e-10,\n",
    "                         3.23992e-14, -1.39568e-18, 2.78701e-23])\n",
    "    alpha = a_coef[0]\n",
    "    for i in range(1, a_coef.size):\n",
    "        alpha += a_coef[i]*np.power(wave,i)\n",
    "\n",
    "    return alpha/1e18"
   ]
  },
  {
   "cell_type": "code",
   "execution_count": 41,
   "metadata": {},
   "outputs": [],
   "source": [
    "wave_array = np.arange(2000, 18000, 200)\n",
    "a_array = [alpha_bf(i) for i in wave_array]"
   ]
  },
  {
   "cell_type": "code",
   "execution_count": 44,
   "metadata": {},
   "outputs": [
    {
     "data": {
      "image/png": "[encoded data removed]",
      "text/plain": [
       "<Figure size 432x288 with 1 Axes>"
      ]
     },
     "metadata": {
      "needs_background": "light"
     },
     "output_type": "display_data"
    }
   ],
   "source": [
    "plt.plot(wave_array, a_array)\n",
    "plt.xlabel('Wavelength')\n",
    "plt.ylabel('opacity')\n",
    "plt.show()"
   ]
  },
  {
   "cell_type": "code",
   "execution_count": 27,
   "metadata": {},
   "outputs": [],
   "source": [
    "\n",
    "    \n",
    "def kappa_Hminus_bf(Pe, T, wave):\n",
    "    \"\"\"\n",
    "    Following equation 8.11-12 in Gray\n",
    "    wave in angstroms\n",
    "    T in kelvin\n",
    "    Pe in cgs? dynes/cm^2\n",
    "    \"\"\"\n",
    "    a_bf = alpha_bf(wave)\n",
    "    theta = 5040/T\n",
    "    if wave<1000 or wave>16200:\n",
    "        return 0\n",
    "    return 4.158e-10 * a_bf * Pe * np.power(theta,(5/2)) * np.power(10,(0.754*theta))"
   ]
  },
  {
   "cell_type": "code",
   "execution_count": 17,
   "metadata": {},
   "outputs": [],
   "source": [
    "wave_array = np.arange(2000, 20000, 100)\n",
    "k_Hm_array = [kappa_Hminus_bf(100, 5000, i) for i in wave_array]"
   ]
  },
  {
   "cell_type": "code",
   "execution_count": 18,
   "metadata": {},
   "outputs": [
    {
     "data": {
      "text/plain": [
       "5.967378681743386e-16"
      ]
     },
     "execution_count": 18,
     "metadata": {},
     "output_type": "execute_result"
    }
   ],
   "source": [
    "alpha_bf(15000)"
   ]
  },
  {
   "cell_type": "code",
   "execution_count": null,
   "metadata": {},
   "outputs": [],
   "source": []
  },
  {
   "cell_type": "code",
   "execution_count": null,
   "metadata": {},
   "outputs": [],
   "source": []
  }
 ],
 "metadata": {
  "kernelspec": {
   "display_name": "Python 3",
   "language": "python",
   "name": "python3"
  },
  "language_info": {
   "codemirror_mode": {
    "name": "ipython",
    "version": 3
   },
   "file_extension": ".py",
   "mimetype": "text/x-python",
   "name": "python",
   "nbconvert_exporter": "python",
   "pygments_lexer": "ipython3",
   "version": "3.7.6"
  }
 },
 "nbformat": 4,
 "nbformat_minor": 4
}
